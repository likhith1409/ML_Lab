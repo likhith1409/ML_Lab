{
  "nbformat": 4,
  "nbformat_minor": 0,
  "metadata": {
    "colab": {
      "provenance": []
    },
    "kernelspec": {
      "name": "python3",
      "display_name": "Python 3"
    },
    "language_info": {
      "name": "python"
    }
  },
  "cells": [
    {
      "cell_type": "markdown",
      "source": [
        "3.\ta) Implement k-nearest neighbors classification using python."
      ],
      "metadata": {
        "id": "8Uz80hIZp1Na"
      }
    },
    {
      "cell_type": "code",
      "execution_count": null,
      "metadata": {
        "colab": {
          "base_uri": "https://localhost:8080/"
        },
        "id": "GDqSm5MjpuUO",
        "outputId": "afd18c7f-63c2-484f-ece8-7b2fbbb1a9c8"
      },
      "outputs": [
        {
          "output_type": "stream",
          "name": "stdout",
          "text": [
            "[1 0 2 1 1 0 1 2 2 1 2 0 0 0 0 1 2 1 1 2 0 2 0 2 2 2 2 2 0 0]\n"
          ]
        }
      ],
      "source": [
        "from sklearn.neighbors import KNeighborsClassifier\n",
        "from sklearn.model_selection import train_test_split\n",
        "from sklearn.datasets import load_iris\n",
        "irisData = load_iris()\n",
        "X = irisData.data\n",
        "y = irisData.target\n",
        "X_train, X_test, y_train, y_test = train_test_split(\n",
        "X, y, test_size = 0.2, random_state=42)\n",
        "knn = KNeighborsClassifier(n_neighbors=7)\n",
        "knn.fit(X_train, y_train)\n",
        "print(knn.predict(X_test))\n"
      ]
    },
    {
      "cell_type": "markdown",
      "source": [
        "b)\tFind the unconditional probability of `golf' and the conditional probability of `single' given `medRisk' in the dataset?"
      ],
      "metadata": {
        "id": "-pPFES3vqEBZ"
      }
    },
    {
      "cell_type": "code",
      "source": [
        "total_Records=10\n",
        "numGolfRecords=4\n",
        "unConditionalprobGolf=numGolfRecords / total_Records\n",
        "print(\"Unconditional probability of golf: ={}\".format(unConditionalprobGolf))\n",
        "#conditional probability of 'single' given 'medRisk'\n",
        "numMedRiskSingle=2\n",
        "numMedRisk=3\n",
        "probMedRiskSingle=numMedRiskSingle/total_Records\n",
        "probMedRisk=numMedRisk/total_Records\n",
        "conditionalProb=(probMedRiskSingle/probMedRisk)\n",
        "print(\"Conditional probability of single given medRisk: = {}\".format(conditionalProb))\n"
      ],
      "metadata": {
        "id": "O61nZxGvqIca",
        "outputId": "84b93fe6-4211-4cbb-83e2-61043bd028e7",
        "colab": {
          "base_uri": "https://localhost:8080/"
        }
      },
      "execution_count": null,
      "outputs": [
        {
          "output_type": "stream",
          "name": "stdout",
          "text": [
            "Unconditional probability of golf: =0.4\n",
            "Conditional probability of single given medRisk: = 0.6666666666666667\n"
          ]
        }
      ]
    }
  ]
}