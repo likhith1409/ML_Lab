{
  "nbformat": 4,
  "nbformat_minor": 0,
  "metadata": {
    "colab": {
      "provenance": []
    },
    "kernelspec": {
      "name": "python3",
      "display_name": "Python 3"
    },
    "language_info": {
      "name": "python"
    }
  },
  "cells": [
    {
      "cell_type": "markdown",
      "source": [
        "6.\tImplement the finite words classification system using Back-propagation algorithm"
      ],
      "metadata": {
        "id": "ffXFc7DOsCBC"
      }
    },
    {
      "cell_type": "code",
      "execution_count": null,
      "metadata": {
        "colab": {
          "base_uri": "https://localhost:8080/"
        },
        "id": "VM09nGM7r9BX",
        "outputId": "64154d0b-e53b-4a48-8517-cb732ba1f578"
      },
      "outputs": [
        {
          "output_type": "stream",
          "name": "stdout",
          "text": [
            "The Total instances in the Dataset:  18\n",
            "******** Accuracy Metrics *********\n",
            "Accuracy :  0.6\n",
            "Recall :  0.5\n",
            "Precision :  1.0\n",
            "Confusion Matrix : \n",
            " [[1 0]\n",
            " [2 2]]\n",
            "----------\n",
            "Enter any statement to predict :i hate winter\n",
            "Statement is Negative\n"
          ]
        }
      ],
      "source": [
        "import pandas as pd\n",
        "from sklearn.model_selection import train_test_split\n",
        "from sklearn.feature_extraction.text import CountVectorizer\n",
        "#Neural Network Module\n",
        "from sklearn.neural_network import MLPClassifier\n",
        "from sklearn.metrics import accuracy_score, confusion_matrix, precision_score, recall_score\n",
        "\n",
        "msglbl_data = pd.read_csv('/content/Statements_data.csv', names=['Message', 'Label'])\n",
        "print(\"The Total instances in the Dataset: \", msglbl_data.shape[0])\n",
        "msglbl_data['labelnum'] = msglbl_data.Label.map({'pos': 1, 'neg': 0})\n",
        "# place the data in X and Y Vectors\n",
        "X = msglbl_data[\"Message\"]\n",
        "Y = msglbl_data.labelnum\n",
        "# to split the data into train se and test set\n",
        "Xtrain, Xtest, Ytrain, Ytest = train_test_split(X, Y)\n",
        "\n",
        "count_vect = CountVectorizer()\n",
        "Xtrain_dims = count_vect.fit_transform(Xtrain)\n",
        "Xtest_dims = count_vect.transform(Xtest)\n",
        "df = pd.DataFrame(Xtrain_dims.toarray(),columns=count_vect.get_feature_names_out())\n",
        "clf = MLPClassifier(solver='lbfgs', alpha=1e-5,hidden_layer_sizes=(5, 2), random_state=1)\n",
        "# to fit the train data into model\n",
        "clf.fit(Xtrain_dims, Ytrain)\n",
        "# to predict the test data\n",
        "prediction = clf.predict(Xtest_dims)\n",
        "print('******** Accuracy Metrics *********')\n",
        "print('Accuracy : ', accuracy_score(Ytest, prediction))\n",
        "print('Recall : ', recall_score(Ytest, prediction))\n",
        "print('Precision : ',precision_score(Ytest, prediction))\n",
        "print('Confusion Matrix : \\n', confusion_matrix(Ytest, prediction))\n",
        "print(10*\"-\")\n",
        "# to predict the input statement\n",
        "test_stmt = [input(\"Enter any statement to predict :\")]\n",
        "test_dims = count_vect.transform(test_stmt)\n",
        "pred = clf.predict(test_dims)\n",
        "for stmt,lbl in zip(test_stmt,pred):\n",
        "\tif lbl == 1:\n",
        "\t\tprint(\"Statement is Positive\")\n",
        "\telse:\n",
        "\t\tprint(\"Statement is Negative\")\n"
      ]
    }
  ]
}